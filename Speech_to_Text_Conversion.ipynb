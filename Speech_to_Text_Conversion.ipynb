{
  "nbformat": 4,
  "nbformat_minor": 0,
  "metadata": {
    "colab": {
      "name": "Speech to Text Conversion.ipynb",
      "provenance": [],
      "authorship_tag": "ABX9TyPQ01LpythPcdxOez0+mqaV",
      "include_colab_link": true
    },
    "kernelspec": {
      "name": "python3",
      "display_name": "Python 3"
    },
    "language_info": {
      "name": "python"
    }
  },
  "cells": [
    {
      "cell_type": "markdown",
      "metadata": {
        "id": "view-in-github",
        "colab_type": "text"
      },
      "source": [
        "<a href=\"https://colab.research.google.com/github/kranthi1231/Automatic-Classification-of-Environmental-Sounds-with-Convolutional-Neural-Networks-CNNs-/blob/master/Speech_to_Text_Conversion.ipynb\" target=\"_parent\"><img src=\"https://colab.research.google.com/assets/colab-badge.svg\" alt=\"Open In Colab\"/></a>"
      ]
    },
    {
      "cell_type": "code",
      "source": [
        " pip install SpeechRecognition"
      ],
      "metadata": {
        "colab": {
          "base_uri": "https://localhost:8080/"
        },
        "id": "x1lppdEykRuC",
        "outputId": "c5deb0dd-1d60-4af2-dfa1-aeaf1b1ae5e1"
      },
      "execution_count": 46,
      "outputs": [
        {
          "output_type": "stream",
          "name": "stdout",
          "text": [
            "Requirement already satisfied: SpeechRecognition in /usr/local/lib/python3.7/dist-packages (3.8.1)\n"
          ]
        }
      ]
    },
    {
      "cell_type": "code",
      "source": [
        "import speech_recognition as sr\n",
        "import subprocess\n",
        "import os\n",
        "import sys\n",
        "from importlib import reload\n",
        "\n",
        "if sys.version[0] == '2':\n",
        "    reload(sys)\n",
        "    sys.setdefaultencoding(\"utf-8\")\n",
        "\n",
        "FOLDER_AUDIO = \"audios\"\n",
        "FOLDER_TEXT = \"texts\"\n",
        "LANGUAGE = \"pt_BR\"\n",
        "\n",
        "print(\"starting...\")\n",
        "\n",
        "if not os.path.isdir(FOLDER_AUDIO):\n",
        "    os.mkdir(FOLDER_AUDIO)\n",
        "    \n",
        "if not os.path.isdir(FOLDER_TEXT):\n",
        "    os.mkdir(FOLDER_TEXT)\n",
        "\n",
        "paths = [os.path.join(FOLDER_AUDIO, nome) for nome in os.listdir(FOLDER_AUDIO)]\n",
        "files = [arq for arq in paths if os.path.isfile(arq)]\n",
        "wav_files = [arq for arq in files if arq.lower().endswith(\".wav\")]\n",
        "\n",
        "for filename in wav_files:\n",
        "    r = sr.Recognizer()\n",
        "    with sr.AudioFile(filename) as source:\n",
        "        audio = r.record(source)\n",
        "    text = r.recognize_google(audio, language = 'en-IN', show_all = True )\n",
        "    #print(\"I thinks you said '\" + r.recognize_google(audio) + \"'\")\n",
        "    #command = r.recognize_google(audio, language=LANGUAGE)\n",
        "\n",
        "    print(\"running file {}\".format(filename))\n",
        "\n",
        "    filefinal = filename.split(\"audios/\")[1].split(\".wav\")[0]\n",
        "    filefinal = '{}\\{}.txt'.format(FOLDER_TEXT, filefinal)\n",
        "    with open(filefinal, 'w') as arq:\n",
        "        arq.write(str(text))\n",
        "\n",
        "    print(\"create a new file {}\".format(filefinal))\n",
        "\n",
        "print(\"finish\")"
      ],
      "metadata": {
        "colab": {
          "base_uri": "https://localhost:8080/"
        },
        "id": "BGPshZuaj2MC",
        "outputId": "c6cc5a18-5d99-4fe7-dbbb-f5afb250ca59"
      },
      "execution_count": 47,
      "outputs": [
        {
          "output_type": "stream",
          "name": "stdout",
          "text": [
            "starting...\n",
            "running file audios/kranthi-voice.wav\n",
            "create a new file texts\\kranthi-voice.txt\n",
            "finish\n"
          ]
        }
      ]
    },
    {
      "cell_type": "code",
      "source": [
        ""
      ],
      "metadata": {
        "id": "119R6k903NF-"
      },
      "execution_count": null,
      "outputs": []
    }
  ]
}